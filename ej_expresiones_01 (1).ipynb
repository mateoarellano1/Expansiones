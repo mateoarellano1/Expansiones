{
 "cells": [
  {
   "cell_type": "markdown",
   "metadata": {},
   "source": [
    "# Matemáticas Financieras. Operaciones Financieras Simples"
   ]
  },
  {
   "cell_type": "markdown",
   "metadata": {},
   "source": [
    "## Ejercicio 1\n",
    "\n",
    "Se utiliza la __capitalización simple__ cuando los intereses no pasan a ser parte del capital. La fórmula utilizada es la siguiente:\n",
    "\n",
    "$$\n",
    "Int_{simple} = Capital  \\times tiempo \\times rate\n",
    "$$\n",
    "\n",
    "donde \n",
    "* Int_simple = importe de los intereses que queremos calcular, \n",
    "* tiempo:  es el número de meses,\n",
    "* rate : es la tasa de interés aplicable expresado como un valor entre 0 y 1.\n",
    "\n",
    "\n",
    "Escribe una función llamada `interesSimple` que reciba 3 argumentos de entrada: capital, número de meses y tasa de interés. El valor devuelto por la función es el valor del interés (aplicar la operación del interés simple de arriba).\n",
    "\n"
   ]
  },
  {
   "cell_type": "code",
   "execution_count": 3,
   "metadata": {},
   "outputs": [],
   "source": [
    "def intersSimple(cap, t, i):\n",
    "    IntSimpl = cap* t * i\n",
    "    return IntSimpl"
   ]
  },
  {
   "cell_type": "code",
   "execution_count": 4,
   "metadata": {},
   "outputs": [
    {
     "data": {
      "text/plain": [
       "1500.0"
      ]
     },
     "execution_count": 4,
     "metadata": {},
     "output_type": "execute_result"
    }
   ],
   "source": [
    "intersSimple(1000, 3, 0.5)"
   ]
  },
  {
   "cell_type": "markdown",
   "metadata": {},
   "source": [
    "## Ejercicio 2\n",
    "\n",
    "En el caso del __interés compuesto__, el interés generado en un periodo se convierte en parte del capital. Su fórmula es la siguiente:\n",
    "\n",
    "$$\n",
    "Int_{compuesto} = Capital  \\times ( 1 +  rate)^{tiempo}\n",
    "$$\n",
    "\n",
    "Escribe una función llamada `interesCompuesto` que reciba 3 argumentos de entrada: capital, número de meses y tasa de interés. El valor devuelto por la función es el valor del interés compuesto (aplicar la operación del interés compuesto de arriba)."
   ]
  },
  {
   "cell_type": "code",
   "execution_count": 5,
   "metadata": {},
   "outputs": [],
   "source": [
    "def interesCompuesto(capi, time ,r):\n",
    "    IntCompuest = capi * (1 + r) ** time\n",
    "    return IntCompuest"
   ]
  },
  {
   "cell_type": "code",
   "execution_count": 6,
   "metadata": {},
   "outputs": [
    {
     "data": {
      "text/plain": [
       "11390.625"
      ]
     },
     "execution_count": 6,
     "metadata": {},
     "output_type": "execute_result"
    }
   ],
   "source": [
    "interesCompuesto(1000, 6, 0.5)"
   ]
  },
  {
   "cell_type": "markdown",
   "metadata": {},
   "source": [
    "---"
   ]
  }
 ],
 "metadata": {
  "kernelspec": {
   "display_name": "Python 3",
   "language": "python",
   "name": "python3"
  },
  "language_info": {
   "codemirror_mode": {
    "name": "ipython",
    "version": 3
   },
   "file_extension": ".py",
   "mimetype": "text/x-python",
   "name": "python",
   "nbconvert_exporter": "python",
   "pygments_lexer": "ipython3",
   "version": "3.8.5"
  },
  "toc": {
   "base_numbering": 1,
   "nav_menu": {},
   "number_sections": true,
   "sideBar": true,
   "skip_h1_title": false,
   "title_cell": "Table of Contents",
   "title_sidebar": "Contents",
   "toc_cell": false,
   "toc_position": {},
   "toc_section_display": true,
   "toc_window_display": false
  }
 },
 "nbformat": 4,
 "nbformat_minor": 4
}
